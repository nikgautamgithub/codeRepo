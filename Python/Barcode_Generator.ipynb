{
  "nbformat": 4,
  "nbformat_minor": 0,
  "metadata": {
    "colab": {
      "name": "Barcode Generator.ipynb",
      "provenance": []
    },
    "kernelspec": {
      "name": "python3",
      "display_name": "Python 3"
    },
    "language_info": {
      "name": "python"
    }
  },
  "cells": [
    {
      "cell_type": "code",
      "source": [
        "#install python-barcode first\n",
        "\n",
        "#pip install python-barcode"
      ],
      "metadata": {
        "id": "abgdEUhKlZMW"
      },
      "execution_count": 1,
      "outputs": []
    },
    {
      "cell_type": "markdown",
      "source": [
        "# Barcode Generator"
      ],
      "metadata": {
        "id": "m1SYXeLwlnzs"
      }
    },
    {
      "cell_type": "code",
      "source": [
        "#Generate Barcode using Python\n",
        "\n",
        "import barcode\n",
        "\n",
        "from barcode.writer import ImageWriter\n",
        "\n",
        "#Define content of the barcode as a string\n",
        "\n",
        "number = input(\"Enter the code to generate barcode(11 Digits): \")"
      ],
      "metadata": {
        "colab": {
          "base_uri": "https://localhost:8080/"
        },
        "id": "d9BhgWLTlexc",
        "outputId": "055d1e95-c042-4796-d803-23539d4fd166"
      },
      "execution_count": 2,
      "outputs": [
        {
          "name": "stdout",
          "output_type": "stream",
          "text": [
            "Enter the code to generate barcode(11 Digits): 01212003434\n"
          ]
        }
      ]
    },
    {
      "cell_type": "code",
      "source": [
        "#Get the required barcode format \n",
        "barcode_format = barcode.get_barcode_class('upc')\n",
        "\n",
        "#Generate barcode and render as image\n",
        "my_barcode = barcode_format(number, writer=ImageWriter())"
      ],
      "metadata": {
        "id": "zPYvIxAwliAr"
      },
      "execution_count": 3,
      "outputs": []
    },
    {
      "cell_type": "code",
      "source": [
        "#Save barcode as PNG\n",
        "\n",
        "my_barcode.save(\"generated_barcode\")\n",
        "\n",
        "from PIL import Image #to open the barcode and show \n",
        "Image.open('generated_barcode.png')\n"
      ],
      "metadata": {
        "colab": {
          "base_uri": "https://localhost:8080/",
          "height": 297
        },
        "id": "IIHwLiCHlNTs",
        "outputId": "6e039523-60b3-4eea-abac-d1a974a4677e"
      },
      "execution_count": 4,
      "outputs": [
        {
          "output_type": "execute_result",
          "data": {
            "text/plain": [
              "<PIL.PngImagePlugin.PngImageFile image mode=RGB size=523x280 at 0x7FE2BA307F50>"
            ],
            "image/png": "[encoded data removed]"
          },
          "metadata": {},
          "execution_count": 4
        }
      ]
    }
  ]
}